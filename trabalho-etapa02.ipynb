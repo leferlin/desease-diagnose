{
 "cells": [
  {
   "cell_type": "markdown",
   "metadata": {},
   "source": [
    "# Disease Diagnose"
   ]
  },
  {
   "cell_type": "markdown",
   "metadata": {},
   "source": [
    "Nosso trabalho consiste em auxiliar o médico na hora de diagnosticar seus\n",
    "pacientes.  \n",
    "Através de um banco de dados, que será alimentado, nosso sistema irá indicar\n",
    "probabilidades de diagnósticos, ou seja, qual doença é mais possível que o paciente tenha\n",
    "contraído.  \n",
    "Após a análise o médico poderá avaliar, ou pedir um exame, para confirmar o\n",
    "diagnóstico. Caso essa avaliação não confirme a doença com mais probabilidade o médico\n",
    "poderá alimentar o sistema com essa informação e permitir com que as probabilidades\n",
    "sejam recalculadas a partir daquela informação.  \n"
   ]
  },
  {
   "cell_type": "markdown",
   "metadata": {},
   "source": [
    "## Modelo Conceitual "
   ]
  },
  {
   "cell_type": "markdown",
   "metadata": {},
   "source": [
    "<img src=\"bd-trabalho-etapa1-uml-2.jpg\">"
   ]
  },
  {
   "cell_type": "markdown",
   "metadata": {},
   "source": [
    "# Queries SQL"
   ]
  },
  {
   "cell_type": "code",
   "execution_count": null,
   "metadata": {},
   "outputs": [],
   "source": []
  },
  {
   "cell_type": "code",
   "execution_count": null,
   "metadata": {},
   "outputs": [],
   "source": []
  },
  {
   "cell_type": "code",
   "execution_count": null,
   "metadata": {},
   "outputs": [],
   "source": []
  }
 ],
 "metadata": {
  "kernelspec": {
   "display_name": "SQL",
   "language": "SQL",
   "name": "sql"
  },
  "language_info": {
   "codemirror_mode": "sql",
   "file_extension": ".sql",
   "mimetype": "",
   "name": "SQL",
   "nbconverter_exporter": "",
   "version": ""
  }
 },
 "nbformat": 4,
 "nbformat_minor": 2
}
