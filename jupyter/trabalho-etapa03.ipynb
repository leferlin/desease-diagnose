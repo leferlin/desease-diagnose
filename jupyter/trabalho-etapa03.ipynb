{
 "cells": [
  {
   "cell_type": "markdown",
   "metadata": {},
   "source": [
    "# Desease Diagnose"
   ]
  },
  {
   "cell_type": "markdown",
   "metadata": {},
   "source": [
    "## Etapa 03"
   ]
  },
  {
   "cell_type": "markdown",
   "metadata": {},
   "source": [
    "Nosso trabalho consiste em auxiliar o médico na hora de diagnosticar seus\n",
    "pacientes.  \n",
    "Através de um banco de dados, que será alimentado, nosso sistema irá indicar\n",
    "probabilidades de diagnósticos, ou seja, qual doença é mais possível que o paciente tenha\n",
    "contraído.  \n",
    "Após a análise o médico poderá avaliar, ou pedir um exame, para confirmar o\n",
    "diagnóstico. Caso essa avaliação não confirme a doença com mais probabilidade o médico\n",
    "poderá alimentar o sistema com essa informação e permitir com que as probabilidades\n",
    "sejam recalculadas a partir daquela informação.  \n"
   ]
  },
  {
   "cell_type": "markdown",
   "metadata": {},
   "source": [
    "## Modelo Conceitual "
   ]
  },
  {
   "cell_type": "markdown",
   "metadata": {},
   "source": [
    "<img src=\"etapa03-modelo.png\">"
   ]
  },
  {
   "cell_type": "markdown",
   "metadata": {},
   "source": [
    "## Modelagem Lógica \n"
   ]
  },
  {
   "cell_type": "markdown",
   "metadata": {},
   "source": [
    "Doenca (codigo,nome)\n",
    "\n",
    "Sintomas (codigo,nome)\n",
    "\n",
    "Paciente(ID, nome,nascimento,celular,localidade)\n",
    "\n",
    "Fator(Codigo,Fator,Tipo)  \n",
    "\n",
    "Diagnostico (ID, doencaCodigo, data)  \n",
    "    &emsp; CHE: doencaCodigo -> Doenca (codigo)\n",
    "\n",
    "PacienteSintomas(pacienteID, sintomaCodigo)   \n",
    "    &emsp; CHE: IDpaciente -> Paciente (ID)  \n",
    "    &emsp; CHE: CodSintoma -> Sintomas (codigo)  \n",
    "  \n",
    "DoencaSintomas (doencaCodigo, sintomaCodigo)  \n",
    "    &emsp; CHE: doencaCodigo -> Doenca (codigo)  \n",
    "    &emsp; CHE: sintomaCodigo -> Sintomas (codigo)  \n",
    "  \n",
    "PacienteDiagnostico (pacienteID, diagnosticoID)  \n",
    "    &emsp; CHE: pacienteID -> Paciente (ID)  \n",
    "    &emsp; CHE: diagnosticoID -> Diagnostico(ID)  \n",
    "  \n",
    "FatorDoenca(CodFator,Dcode,Prob)  \n",
    "    &emsp; CHE: CodFator -> Fator(Codigo)  \n",
    "    &emsp; CHE: Dcode -> Doenca(codigo)  \n",
    "  \n",
    "FatorPaciente(CodFator,IDpaciente)  \n",
    "    &emsp; CHE: CodFator -> Fator(Codigo)  \n",
    "    &emsp; CHE: IDpaciente -> Paciente(ID)  \n"
   ]
  },
  {
   "cell_type": "markdown",
   "metadata": {},
   "source": [
    "## Códigos para criação de dados em Cypher"
   ]
  },
  {
   "cell_type": "code",
   "execution_count": null,
   "metadata": {},
   "outputs": [],
   "source": [
    "// Criar Diagnostico\n",
    "USING PERIODIC COMMIT\n",
    "LOAD CSV WITH HEADERS FROM \"https://raw.githubusercontent.com/leferlin/disease-diagnose/master/data/Diagnostico.csv\" AS row\n",
    "CREATE (:Diagnostico {ID: row.ID, doencaCodigo: row.doencaCodigo, data: row.data});\n",
    "\n",
    "// Criar Doenca\n",
    "USING PERIODIC COMMIT\n",
    "LOAD CSV WITH HEADERS FROM \"https://raw.githubusercontent.com/leferlin/disease-diagnose/master/data/Doenca.csv\" AS row\n",
    "CREATE (:Doenca {codigo: row.codigo, nome: row.nome});\n",
    "\n",
    "// Criar Fator\n",
    "USING PERIODIC COMMIT\n",
    "LOAD CSV WITH HEADERS FROM \"https://raw.githubusercontent.com/leferlin/disease-diagnose/master/data/Fator.csv\" AS row\n",
    "CREATE (:Fator {Codigo: row.Codigo, Fator: row.Fator, Tipo: row.Tipo});\n",
    "\n",
    "// Criar Paciente\n",
    "USING PERIODIC COMMIT\n",
    "LOAD CSV WITH HEADERS FROM \"https://raw.githubusercontent.com/leferlin/disease-diagnose/master/data/Paciente.csv\" AS row\n",
    "CREATE (:Paciente {ID: row.ID, nome: row.nome, nascimento: row.nascimento, celular: row.celular, localidade: row.localidade});\n",
    "\n",
    "// Criar Sintomas\n",
    "USING PERIODIC COMMIT\n",
    "LOAD CSV WITH HEADERS FROM \"https://raw.githubusercontent.com/leferlin/disease-diagnose/master/data/Sintomas.csv\" AS row\n",
    "CREATE (:Sintomas {codigo: row.codigo, nome: row.nome});\n",
    "\n",
    "// Criar FatorDoenca\n",
    "LOAD CSV WITH HEADERS FROM 'https://raw.githubusercontent.com/leferlin/disease-diagnose/master/data/FatorDoenca.csv' AS line\n",
    "MATCH (d:Fator {Codigo: line.CodFator})\n",
    "MATCH (p:Doenca {codigo: line.Dcode})\n",
    "CREATE (d)-[:FatorDoenca {Probabilidade: line.Prob}]->(p)\n",
    "\n",
    "// Criar FatorPaciente\n",
    "LOAD CSV WITH HEADERS FROM 'https://raw.githubusercontent.com/leferlin/disease-diagnose/master/data/FatorPaciente.csv' AS line\n",
    "MATCH (d:Fator {Codigo: line.CodFator})\n",
    "MATCH (p:Paciente {ID: line.Idpaciente})\n",
    "CREATE (p)-[:FatorPaciente]->(d)\n",
    "\n",
    "// Criar DoencaSintoma\n",
    "LOAD CSV WITH HEADERS FROM 'https://raw.githubusercontent.com/leferlin/disease-diagnose/master/data/DoencaSintomas.csv' AS line\n",
    "MATCH (d:Doenca {codigo: line.doencaCodigo})\n",
    "MATCH (p:Sintomas {codigo: line.sintomaCodigo})\n",
    "CREATE (p)-[:DoencaSintoma {Ocorrencias: line.Ocorrencias}]->(d)\n",
    "\n",
    "// Criar PacienteSintoma\n",
    "LOAD CSV WITH HEADERS FROM 'https://raw.githubusercontent.com/leferlin/disease-diagnose/master/data/PacienteSintoma.csv' AS line\n",
    "MATCH (d:Paciente {ID: line.Idpaciente})\n",
    "MATCH (p:Sintomas {codigo: line.CodSintoma})\n",
    "CREATE (d)-[:PacienteSintoma]->(p)\n",
    "\n",
    "// Criar PacienteDiagnostico\n",
    "LOAD CSV WITH HEADERS FROM 'https://raw.githubusercontent.com/leferlin/disease-diagnose/master/data/PacienteDiagnostico.csv' AS line\n",
    "MATCH (d:Paciente {ID: line.pacienteID})\n",
    "MATCH (p:Diagnostico {ID: line.diagnosticoID})\n",
    "CREATE (d)-[:PacienteDiagnostico]->(p)\n",
    "\n",
    "\n",
    "\n",
    "\n"
   ]
  },
  {
   "cell_type": "markdown",
   "metadata": {},
   "source": [
    "#Consultas"
   ]
  },
  {
   "cell_type": "code",
   "execution_count": null,
   "metadata": {},
   "outputs": [],
   "source": [
    "// Probabilidade segundo os fatores de risco (exclusivamente) do Paciente 'n' ter contraido a Doenca 'd'\n",
    "MATCH p = (n:Paciente{ID: 'patOJATVU'})-[r:FatorPaciente]->(m:Fator)-[t:FatorDoenca]->(d:Doenca{nome: 'hypertensive disease'})\n",
    "RETURN AVG(toFloat(replace(t.Probabilidade, \",\", \".\")))\n",
    "\n",
    "// Caminho Paciente Y -> Fatores de risco respectivos -> Doencas\n",
    "MATCH p = (n:Paciente{ID: 'patOJATVU'})-[r:FatorPaciente]->(m:Fator)-[t:FatorDoenca]->(d:Doenca{nome: 'hypertensive disease'})\n",
    "RETURN p"
   ]
  },
  {
   "cell_type": "markdown",
   "metadata": {},
   "source": []
  }
 ],
 "metadata": {
  "kernelspec": {
   "display_name": "Python 3",
   "language": "python",
   "name": "python3"
  },
  "language_info": {
   "codemirror_mode": {
    "name": "ipython",
    "version": 3
   },
   "file_extension": ".py",
   "mimetype": "text/x-python",
   "name": "python",
   "nbconvert_exporter": "python",
   "pygments_lexer": "ipython3",
   "version": "3.6.6"
  },
  "toc": {
   "base_numbering": 1,
   "nav_menu": {},
   "number_sections": false,
   "sideBar": false,
   "skip_h1_title": false,
   "title_cell": "Table of Contents",
   "title_sidebar": "Contents",
   "toc_cell": false,
   "toc_position": {},
   "toc_section_display": false,
   "toc_window_display": false
  }
 },
 "nbformat": 4,
 "nbformat_minor": 2
}
