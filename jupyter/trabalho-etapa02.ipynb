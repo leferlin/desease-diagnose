{
 "cells": [
  {
   "cell_type": "markdown",
   "metadata": {},
   "source": [
    "# Disease Diagnose"
   ]
  },
  {
   "cell_type": "markdown",
   "metadata": {},
   "source": [
    "Nosso trabalho consiste em auxiliar o médico na hora de diagnosticar seus\n",
    "pacientes.  \n",
    "Através de um banco de dados, que será alimentado, nosso sistema irá indicar\n",
    "probabilidades de diagnósticos, ou seja, qual doença é mais possível que o paciente tenha\n",
    "contraído.  \n",
    "Após a análise o médico poderá avaliar, ou pedir um exame, para confirmar o\n",
    "diagnóstico. Caso essa avaliação não confirme a doença com mais probabilidade o médico\n",
    "poderá alimentar o sistema com essa informação e permitir com que as probabilidades\n",
    "sejam recalculadas a partir daquela informação.  \n"
   ]
  },
  {
   "cell_type": "markdown",
   "metadata": {},
   "source": [
    "## Modelo Conceitual "
   ]
  },
  {
   "cell_type": "markdown",
   "metadata": {},
   "source": [
    "<img src=\"UML - Etapa02-Page-1.png\">"
   ]
  },
  {
   "cell_type": "markdown",
   "metadata": {},
   "source": [
    "# Modelagem Lógica \n"
   ]
  },
  {
   "cell_type": "code",
   "execution_count": 1,
   "metadata": {},
   "outputs": [],
   "source": [
    "%defaultDatasource jdbc:h2:mem:db\n"
   ]
  },
  {
   "cell_type": "code",
   "execution_count": 2,
   "metadata": {},
   "outputs": [],
   "source": [
    "CREATE TABLE Paciente (\n",
    "  ID VARCHAR(9) NOT NULL,\n",
    "  nome VARCHAR(50),\n",
    "  nascimento VARCHAR(10),\n",
    "  celular VARCHAR(7),\n",
    "  localidade VARCHAR(9),\n",
    "  PRIMARY KEY(ID)\n",
    ") AS SELECT\n",
    "    ID,\n",
    "    nome,\n",
    "    nascimento,\n",
    "    celular, \n",
    "    localidade\n",
    "FROM CSVREAD('../data/Paciente.csv');\n",
    "\n",
    "CREATE TABLE Doenca (\n",
    "  codigo VARCHAR(8) NOT NULL,\n",
    "  nome VARCHAR(50),\n",
    "  PRIMARY KEY(codigo)\n",
    ") AS SELECT\n",
    "    codigo,\n",
    "    nome\n",
    "FROM CSVREAD('../data/Doenca.csv');\n",
    "\n",
    "CREATE TABLE Sintomas (\n",
    "  codigo VARCHAR(8) NOT NULL,\n",
    "  nome VARCHAR(50),\n",
    "  PRIMARY KEY(codigo)\n",
    ") AS SELECT\n",
    "    codigo,\n",
    "    nome\n",
    "FROM CSVREAD('../data/Sintomas.csv');\n",
    "\n"
   ]
  },
  {
   "cell_type": "code",
   "execution_count": 4,
   "metadata": {},
   "outputs": [
    {
     "ename": "org.h2.jdbc.JdbcSQLException",
     "evalue": " Table \"DIAGNOSTICO\" already exists; SQL statement",
     "output_type": "error",
     "traceback": [
      "\u001b[1;31morg.h2.jdbc.JdbcSQLException: Table \"DIAGNOSTICO\" already exists; SQL statement:\u001b[0;0m",
      "\u001b[1;31mCREATE TABLE Diagnostico (\u001b[0;0m",
      "\u001b[1;31mID VARCHAR(10) NOT NULL,\u001b[0;0m",
      "\u001b[1;31mdoencaCodigo VARCHAR(8),\u001b[0;0m",
      "\u001b[1;31mdata VARCHAR(10),\u001b[0;0m",
      "\u001b[1;31mPRIMARY KEY(ID),\u001b[0;0m",
      "\u001b[1;31mFOREIGN KEY(doencaCodigo)\u001b[0;0m",
      "\u001b[1;31mREFERENCES Doenca(codigo)\u001b[0;0m",
      "\u001b[1;31mON DELETE NO ACTION\u001b[0;0m",
      "\u001b[1;31mON UPDATE NO ACTION,\u001b[0;0m",
      "\u001b[1;31m) AS SELECT\u001b[0;0m",
      "\u001b[1;31mID,\u001b[0;0m",
      "\u001b[1;31mdoencaCodigo,\u001b[0;0m",
      "\u001b[1;31mdata\u001b[0;0m",
      "\u001b[1;31mFROM CSVREAD('../data/Diagnostico.csv') [42101-197]\u001b[0;0m"
     ]
    }
   ],
   "source": [
    "CREATE TABLE Diagnostico (\n",
    "  ID VARCHAR(10) NOT NULL,\n",
    "  doencaCodigo VARCHAR(8),\n",
    "  data VARCHAR(10),\n",
    "  PRIMARY KEY(ID),\n",
    "  FOREIGN KEY(doencaCodigo)\n",
    "    REFERENCES Doenca(codigo)\n",
    "      ON DELETE NO ACTION\n",
    "      ON UPDATE NO ACTION,\n",
    ") AS SELECT\n",
    "    ID,\n",
    "    doencaCodigo,\n",
    "    data\n",
    "FROM CSVREAD('../data/Diagnostico.csv');\n",
    "\n",
    "CREATE TABLE DoencaSintomas (\n",
    "  doencaCodigo VARCHAR(8) NOT NULL,\n",
    "  sintomaCodigo VARCHAR(8) NOT NULL,\n",
    "  FOREIGN KEY(doencaCodigo)\n",
    "    REFERENCES Doenca(codigo)\n",
    "      ON DELETE NO ACTION\n",
    "      ON UPDATE NO ACTION,\n",
    "  FOREIGN KEY(sintomaCodigo)\n",
    "    REFERENCES Sintomas(codigo)\n",
    "      ON DELETE NO ACTION\n",
    "      ON UPDATE NO ACTION,\n",
    ") AS SELECT\n",
    "    doencaCodigo,\n",
    "    sintomaCodigo\n",
    "FROM CSVREAD('../data/DoencaSintomas.csv');\n",
    "\n"
   ]
  },
  {
   "cell_type": "code",
   "execution_count": 5,
   "metadata": {},
   "outputs": [],
   "source": [
    "CREATE TABLE PacienteDiagnostico (\n",
    "  pacienteID VARCHAR(9) NOT NULL,\n",
    "  diagnosticoID VARCHAR(10) NOT NULL,\n",
    "  FOREIGN KEY(pacienteID)\n",
    "    REFERENCES Paciente(ID)\n",
    "      ON DELETE NO ACTION\n",
    "      ON UPDATE NO ACTION,\n",
    "  FOREIGN KEY(diagnosticoID)\n",
    "    REFERENCES Diagnostico(ID)\n",
    "      ON DELETE NO ACTION\n",
    "      ON UPDATE NO ACTION,\n",
    ") AS SELECT\n",
    "    pacienteID,\n",
    "    diagnosticoID\n",
    "FROM CSVREAD('../data/PacienteDiagnostico.csv');\n"
   ]
  },
  {
   "cell_type": "code",
   "execution_count": 7,
   "metadata": {},
   "outputs": [],
   "source": [
    "\n",
    "CREATE TABLE PacienteSintoma (\n",
    "  Idpaciente VARCHAR(9) NOT NULL,\n",
    "  CodSintoma VARCHAR(8) NOT NULL,\n",
    "  FOREIGN KEY(Idpaciente)\n",
    "    REFERENCES Paciente(ID)\n",
    "      ON DELETE NO ACTION\n",
    "      ON UPDATE NO ACTION,\n",
    "  FOREIGN KEY(CodSintoma)\n",
    "    REFERENCES Sintomas(codigo)\n",
    "      ON DELETE NO ACTION\n",
    "      ON UPDATE NO ACTION,\n",
    ") AS SELECT\n",
    "    Idpaciente,\n",
    "    CodSintoma\n",
    "FROM CSVREAD('../data/PacienteSintoma.csv');\n",
    "\n",
    "\n"
   ]
  },
  {
   "cell_type": "code",
   "execution_count": 12,
   "metadata": {},
   "outputs": [],
   "source": [
    "DROP TABLE IF EXISTS Fator;\n",
    "DROP TABLE IF EXISTS FatorDoenca;\n",
    "DROP TABLE IF EXISTS FatorPaciente;\n",
    "\n",
    "CREATE TABLE Fator (\n",
    "  Codigo INTEGER NOT NULL,\n",
    "  Fator VARCHAR(50) NOT NULL,\n",
    "  Tipo VARCHAR(50) NOT NULL,\n",
    "  PRIMARY KEY(Codigo)\n",
    ") AS SELECT\n",
    "    Codigo,\n",
    "    Fator, \n",
    "    Tipo\n",
    "FROM CSVREAD('../data/Fator.csv');\n",
    "\n",
    "CREATE TABLE FatorDoenca (\n",
    "  CodFator INTEGER NOT NULL,\n",
    "  Dcode VARCHAR(50) NOT NULL,\n",
    "  Prob FLOAT(4) NOT NULL,\n",
    "  FOREIGN KEY(CodFator)\n",
    "    REFERENCES Fator(Codigo)\n",
    "      ON DELETE NO ACTION\n",
    "      ON UPDATE NO ACTION,\n",
    "  FOREIGN KEY(Dcode)\n",
    "    REFERENCES Doenca(codigo)\n",
    "      ON DELETE NO ACTION\n",
    "      ON UPDATE NO ACTION,\n",
    ") AS SELECT\n",
    "    CodFator,\n",
    "    Dcode, \n",
    "    Prob\n",
    "FROM CSVREAD('../data/FatorDoenca.csv');\n",
    "\n",
    "CREATE TABLE FatorPaciente (\n",
    "  CodFator INTEGER NOT NULL,\n",
    "  Idpaciente VARCHAR(50) NOT NULL,\n",
    "  FOREIGN KEY(CodFator)\n",
    "    REFERENCES Fator(Codigo)\n",
    "      ON DELETE NO ACTION\n",
    "      ON UPDATE NO ACTION,\n",
    "  FOREIGN KEY(Idpaciente)\n",
    "    REFERENCES Paciente(ID)\n",
    "      ON DELETE NO ACTION\n",
    "      ON UPDATE NO ACTION,\n",
    ") AS SELECT\n",
    "    CodFator,\n",
    "    Idpaciente\n",
    "FROM CSVREAD('../data/FatorPaciente.csv');\n",
    "\n"
   ]
  },
  {
   "cell_type": "markdown",
   "metadata": {},
   "source": [
    "## Queries"
   ]
  },
  {
   "cell_type": "code",
   "execution_count": 9,
   "metadata": {},
   "outputs": [
    {
     "data": {
      "application/vnd.jupyter.widget-view+json": {
       "model_id": "f50ad9ec-9422-4694-b8b0-be8219b97eaf",
       "version_major": 2,
       "version_minor": 0
      },
      "method": "display_data"
     },
     "metadata": {},
     "output_type": "display_data"
    }
   ],
   "source": [
    "SELECT * FROM Paciente WHERE Paciente.nascimento LIKE '%1990'"
   ]
  },
  {
   "cell_type": "markdown",
   "metadata": {},
   "source": [
    "# Sintoma mais relatado por pacientes"
   ]
  },
  {
   "cell_type": "code",
   "execution_count": 10,
   "metadata": {},
   "outputs": [
    {
     "data": {
      "text/plain": [
       "shortness of breath"
      ]
     },
     "execution_count": 10,
     "metadata": {},
     "output_type": "execute_result"
    }
   ],
   "source": [
    "SELECT nome FROM (SELECT S.nome, COUNT(*) contagem FROM Sintomas S, DoencaSintomas DS, Doenca D WHERE DS.sintomaCodigo = S.codigo AND DS.doencaCodigo = D.codigo GROUP BY S.nome)\n",
    "WHERE contagem = (SELECT MAX(contagem) FROM (SELECT S.nome, COUNT(*) contagem FROM Sintomas S, DoencaSintomas DS, Doenca D WHERE DS.sintomaCodigo = S.codigo AND DS.doencaCodigo = D.codigo GROUP BY S.nome))"
   ]
  },
  {
   "cell_type": "markdown",
   "metadata": {},
   "source": [
    "# Nome dos constatados com a doença X (no caso abaixo: diabetes)"
   ]
  },
  {
   "cell_type": "code",
   "execution_count": 11,
   "metadata": {},
   "outputs": [
    {
     "data": {
      "application/vnd.jupyter.widget-view+json": {
       "model_id": "b40632a7-b2b1-4256-84cd-f9cdb9dac01c",
       "version_major": 2,
       "version_minor": 0
      },
      "method": "display_data"
     },
     "metadata": {},
     "output_type": "display_data"
    }
   ],
   "source": [
    "SELECT P.nome FROM PacienteDiagnostico PD, Diagnostico D, Doenca Do, Paciente P WHERE PD.pacienteID = P.ID AND PD.diagnosticoID = D.ID AND D.doencaCodigo = Do.codigo AND Do.nome = 'diabetes'"
   ]
  },
  {
   "cell_type": "code",
   "execution_count": null,
   "metadata": {},
   "outputs": [],
   "source": []
  },
  {
   "cell_type": "code",
   "execution_count": 13,
   "metadata": {},
   "outputs": [
    {
     "data": {
      "application/vnd.jupyter.widget-view+json": {
       "model_id": "3d64ba88-987b-43c6-8699-a16a3647a862",
       "version_major": 2,
       "version_minor": 0
      },
      "method": "display_data"
     },
     "metadata": {},
     "output_type": "display_data"
    }
   ],
   "source": [
    "SELECT D.nome, COUNT(*) ocorrencias FROM Diagnostico Di, Doenca D, Sintomas S WHERE D.codigo = Di.doencaCodigo AND GROUP BY D.nome; "
   ]
  }
 ],
 "metadata": {
  "kernelspec": {
   "display_name": "SQL",
   "language": "SQL",
   "name": "sql"
  },
  "language_info": {
   "codemirror_mode": "sql",
   "file_extension": ".sql",
   "mimetype": "",
   "name": "SQL",
   "nbconverter_exporter": "",
   "version": ""
  },
  "toc": {
   "base_numbering": 1,
   "nav_menu": {},
   "number_sections": false,
   "sideBar": false,
   "skip_h1_title": false,
   "title_cell": "Table of Contents",
   "title_sidebar": "Contents",
   "toc_cell": false,
   "toc_position": {},
   "toc_section_display": false,
   "toc_window_display": false
  }
 },
 "nbformat": 4,
 "nbformat_minor": 2
}
